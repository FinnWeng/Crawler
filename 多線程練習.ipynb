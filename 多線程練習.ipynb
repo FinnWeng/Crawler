{
 "cells": [
  {
   "cell_type": "code",
   "execution_count": 2,
   "metadata": {},
   "outputs": [
    {
     "name": "stdout",
     "output_type": "stream",
     "text": [
      "False\n",
      "True\n",
      "hello\n",
      "world\n"
     ]
    }
   ],
   "source": [
    "from concurrent.futures import ThreadPoolExecutor\n",
    "import time\n",
    "def return_future_result(message):\n",
    "    time.sleep(2)\n",
    "    return message\n",
    "pool = ThreadPoolExecutor(max_workers=2)  # 创建一个最大可容纳2个task的线程池\n",
    "future1 = pool.submit(return_future_result, (\"hello\"))  # 往线程池里面加入一个task\n",
    "future2 = pool.submit(return_future_result, (\"world\"))  # 往线程池里面加入一个task\n",
    "print(future1.done())  # 判断task1是否结束\n",
    "time.sleep(3)\n",
    "print(future2.done())  # 判断task2是否结束\n",
    "print(future1.result())  # 查看task1返回的结果\n",
    "print(future2.result())  # 查看task2返回的结果"
   ]
  },
  {
   "cell_type": "code",
   "execution_count": 3,
   "metadata": {},
   "outputs": [
    {
     "name": "stdout",
     "output_type": "stream",
     "text": [
      "'http://example.com/' page is 1270 bytes\n",
      "'http://httpbin.org' page is 13011 bytes\n",
      "'https://api.github.com/' page is 2039 bytes\n"
     ]
    }
   ],
   "source": [
    "# example3.py\n",
    "import concurrent.futures\n",
    "import urllib.request\n",
    "URLS = ['http://httpbin.org', 'http://example.com/', 'https://api.github.com/']\n",
    "def load_url(url, timeout):\n",
    "    with urllib.request.urlopen(url, timeout=timeout) as conn:\n",
    "        return conn.read()\n",
    "# We can use a with statement to ensure threads are cleaned up promptly\n",
    "with concurrent.futures.ThreadPoolExecutor(max_workers=3) as executor:\n",
    "    # Start the load operations and mark each future with its URL\n",
    "    future_to_url = {executor.submit(load_url, url, 60): url for url in URLS}\n",
    "    for future in concurrent.futures.as_completed(future_to_url):\n",
    "        url = future_to_url[future]\n",
    "        try:\n",
    "            data = future.result()\n",
    "        except Exception as exc:\n",
    "            print('%r generated an exception: %s' % (url, exc))\n",
    "        else:\n",
    "            print('%r page is %d bytes' % (url, len(data)))\n",
    "            \n",
    "##从运行结果可以看出，as_completed不是按照URLS列表元素的顺序返回的。"
   ]
  },
  {
   "cell_type": "code",
   "execution_count": 2,
   "metadata": {
    "collapsed": true
   },
   "outputs": [],
   "source": [
    "##頁數\n",
    "import concurrent.futures\n",
    "import requests\n",
    "import time\n",
    "from bs4 import BeautifulSoup as bs\n",
    "URLS_list=[]\n",
    "for pg in range(400,9498):\n",
    "    URLS = 'https://www.ptt.cc/bbs/LoL/index%s.html'%pg\n",
    "    URLS_list.append(URLS)\n",
    "\n"
   ]
  },
  {
   "cell_type": "code",
   "execution_count": 7,
   "metadata": {
    "scrolled": true
   },
   "outputs": [
    {
     "name": "stdout",
     "output_type": "stream",
     "text": [
      "[創作] 死猴囝仔養成記 \n",
      "[黑特] 刺客列傳\n",
      "[心得] 從濟南路大旅館呼喊著世界萬花筒\n",
      "\n",
      "\n",
      "\n"
     ]
    }
   ],
   "source": [
    "from concurrent.futures import ThreadPoolExecutor\n",
    "import concurrent\n",
    "import requests\n",
    "from bs4 import BeautifulSoup as bs\n",
    "import time\n",
    "URLS_list=[\"https://www.ptt.cc/bbs/HatePolitics/index99.html\",\"https://www.ptt.cc/bbs/HatePolitics/index98.html\",\"https://www.ptt.cc/bbs/HatePolitics/index97.html\"]\n",
    "def load_url(url):\n",
    "    resp = requests.get(url)\n",
    "    soup = bs(resp.text,\"html5lib\")\n",
    "    selects = soup.select('div.title > a')\n",
    "    text = selects[0].text\n",
    "    print(text)\n",
    "    return text\n",
    "with concurrent.futures.ThreadPoolExecutor(max_workers=200) as executor:\n",
    "    for data in executor.map(load_url, URLS_list):\n",
    "        print(\"\")\n",
    "#从运行结果可以看出，map是按照URLS列表元素的顺序返回的，并且写出的代码更加简洁直观，我们可以根据具体的需求任选一种。"
   ]
  },
  {
   "cell_type": "code",
   "execution_count": null,
   "metadata": {
    "collapsed": true
   },
   "outputs": [],
   "source": []
  }
 ],
 "metadata": {
  "kernelspec": {
   "display_name": "Python 3",
   "language": "python",
   "name": "python3"
  },
  "language_info": {
   "codemirror_mode": {
    "name": "ipython",
    "version": 3
   },
   "file_extension": ".py",
   "mimetype": "text/x-python",
   "name": "python",
   "nbconvert_exporter": "python",
   "pygments_lexer": "ipython3",
   "version": "3.6.1"
  }
 },
 "nbformat": 4,
 "nbformat_minor": 2
}
