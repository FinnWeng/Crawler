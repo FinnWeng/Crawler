{
 "cells": [
  {
   "cell_type": "code",
   "execution_count": 50,
   "metadata": {},
   "outputs": [
    {
     "data": {
      "text/plain": [
       "list"
      ]
     },
     "execution_count": 50,
     "metadata": {},
     "output_type": "execute_result"
    }
   ],
   "source": [
    "from datetime import datetime, timedelta \n",
    "import time\n",
    "\n",
    "# nowdate = time.strftime(\"%Y-%m-%d\")\n",
    "\n",
    "date = datetime.strptime(\"2017-01-01\", \"%Y-%m-%d\") \n",
    "delta = timedelta(days = 1) \n",
    "dates = [] \n",
    "\n",
    "while date <= datetime.now(): \n",
    "    dates.append(date.strftime(\"%Y%m%d\")) \n",
    "    date += delta\n",
    "\n",
    "type(dates)\n",
    "\n",
    "\n",
    "# date = datetime.strptime(\"2017-01-01\", \"%Y-%m-%d\") \n",
    "# delta = timedelta(days = 1) \n",
    "# dates = [] \n",
    "\n",
    "# while date <= datetime.strptime(\"2017-10-31\", \"%Y-%m-%d\"): \n",
    "#     dates.append(date.strftime(\"%Y%m%d\")) \n",
    "#     date += delta\n",
    "\n"
   ]
  },
  {
   "cell_type": "code",
   "execution_count": 117,
   "metadata": {
    "collapsed": true
   },
   "outputs": [],
   "source": [
    "import re\n",
    "import pandas as pd\n",
    "import requests\n",
    "from bs4 import BeautifulSoup\n",
    "from nltk.tokenize import RegexpTokenizer\n",
    "import json\n",
    "from datetime import datetime, timedelta \n",
    "import time"
   ]
  },
  {
   "cell_type": "code",
   "execution_count": 121,
   "metadata": {
    "collapsed": true
   },
   "outputs": [],
   "source": [
    "def article_crawler(url):\n",
    "    resp = requests.get(url)\n",
    "    soup = BeautifulSoup(resp.text, 'html5lib')\n",
    "    desc = soup.select(\"div.text > p\")\n",
    "    b = \"\".join([p.text for p in desc])\n",
    "    return b\n",
    "    "
   ]
  },
  {
   "cell_type": "code",
   "execution_count": 122,
   "metadata": {
    "collapsed": true
   },
   "outputs": [],
   "source": [
    "def list_crawler(startdate):\n",
    "    url = \"http://news.ltn.com.tw/list/newspaper/politics/%s\"\n",
    "    headers = {\"User-Agent\":\"Mozilla/5.0 (Windows NT 10.0; Win64; x64) AppleWebKit/537.36 (KHTML, like Gecko) Chrome/62.0.3202.94 Safari/537.36\"}\n",
    "    domainname = \"http://news.ltn.com.tw/\" \n",
    "    \n",
    "    date = datetime.strptime(startdate, \"%Y%m%d\") \n",
    "    delta = timedelta(days = 1) \n",
    "    dates = [] \n",
    "\n",
    "    while date <= datetime.now(): \n",
    "        dates.append(date.strftime(\"%Y%m%d\")) \n",
    "        date += delta\n",
    "    \n",
    "    article_data = []\n",
    "\n",
    "\n",
    "    for p in dates:\n",
    "        resp = requests.get(url%p,headers=headers)\n",
    "        soup = BeautifulSoup(resp.text, 'html5lib')\n",
    "        urls = [domainname + x.get('href') for x in soup.select('div.whitecon > ul > li')[0].select(\"a\")]\n",
    "        for article_url in urls:\n",
    "            article_data.append(article_crawler(article_url))\n",
    "                  \n",
    "    return article_data \n"
   ]
  },
  {
   "cell_type": "code",
   "execution_count": 30,
   "metadata": {},
   "outputs": [
    {
     "data": {
      "text/plain": [
       "['http://news.ltn.com.tw/news/politics/paper/1154513',\n",
       " 'http://news.ltn.com.tw/news/politics/paper/1154513',\n",
       " 'http://news.ltn.com.tw/news/politics/paper/1154514',\n",
       " 'http://news.ltn.com.tw/news/politics/paper/1154514',\n",
       " 'http://news.ltn.com.tw/news/politics/paper/1154515',\n",
       " 'http://news.ltn.com.tw/news/politics/paper/1154515',\n",
       " 'http://news.ltn.com.tw/news/politics/paper/1154516',\n",
       " 'http://news.ltn.com.tw/news/politics/paper/1154516',\n",
       " 'http://news.ltn.com.tw/news/politics/paper/1154517',\n",
       " 'http://news.ltn.com.tw/news/politics/paper/1154517',\n",
       " 'http://news.ltn.com.tw/news/politics/paper/1154518',\n",
       " 'http://news.ltn.com.tw/news/politics/paper/1154518',\n",
       " 'http://news.ltn.com.tw/news/politics/paper/1154519',\n",
       " 'http://news.ltn.com.tw/news/politics/paper/1154519']"
      ]
     },
     "execution_count": 30,
     "metadata": {},
     "output_type": "execute_result"
    }
   ],
   "source": [
    "url = \"http://news.ltn.com.tw/list/newspaper/politics/20171124\"\n",
    "headers = {\"User-Agent\":\"Mozilla/5.0 (Windows NT 10.0; Win64; x64) AppleWebKit/537.36 (KHTML, like Gecko) Chrome/62.0.3202.94 Safari/537.36\"}\n",
    "\n",
    "domainname = \"http://news.ltn.com.tw/\" \n",
    "           \n",
    "resp = requests.get(url,headers=headers)\n",
    "soup = BeautifulSoup(resp.text, 'html5lib')\n",
    "urls = [domainname + x.get('href') for x in soup.select('div.whitecon > ul > li > a')]\n",
    "urls\n"
   ]
  },
  {
   "cell_type": "code",
   "execution_count": 90,
   "metadata": {},
   "outputs": [
    {
     "data": {
      "text/plain": [
       "['http://news.ltn.com.tw/news/politics/paper/1153442',\n",
       " 'http://news.ltn.com.tw/news/politics/paper/1153442',\n",
       " 'http://news.ltn.com.tw/news/politics/paper/1153938',\n",
       " 'http://news.ltn.com.tw/news/politics/paper/1153938',\n",
       " 'http://news.ltn.com.tw/news/politics/paper/1154221',\n",
       " 'http://news.ltn.com.tw/news/politics/paper/1154221',\n",
       " 'http://news.ltn.com.tw/news/politics/paper/1154513',\n",
       " 'http://news.ltn.com.tw/news/politics/paper/1154513',\n",
       " 'http://news.ltn.com.tw/news/politics/paper/1154816',\n",
       " 'http://news.ltn.com.tw/news/politics/paper/1154816',\n",
       " 'http://news.ltn.com.tw/news/politics/paper/1155073',\n",
       " 'http://news.ltn.com.tw/news/politics/paper/1155073']"
      ]
     },
     "execution_count": 90,
     "metadata": {},
     "output_type": "execute_result"
    }
   ],
   "source": [
    "url = \"http://news.ltn.com.tw/list/newspaper/politics/%s\"\n",
    "headers = {\"User-Agent\":\"Mozilla/5.0 (Windows NT 10.0; Win64; x64) AppleWebKit/537.36 (KHTML, like Gecko) Chrome/62.0.3202.94 Safari/537.36\"}\n",
    "domainname = \"http://news.ltn.com.tw/\" \n",
    "    \n",
    "date = datetime.strptime(\"20171121\", \"%Y%m%d\") \n",
    "delta = timedelta(days = 1) \n",
    "dates = [] \n",
    "\n",
    "while date <= datetime.now(): \n",
    "    dates.append(date.strftime(\"%Y%m%d\")) \n",
    "    date += delta\n",
    "    \n",
    "\n",
    "\n",
    "urls =[]\n",
    "for p in dates:\n",
    "    resp = requests.get(url%p,headers=headers)\n",
    "    soup = BeautifulSoup(resp.text, 'html5lib')\n",
    "    a = [domainname + x.get('href') for x in soup.select('div.whitecon > ul > li')[0].select(\"a\")]\n",
    "#     a = [domainname + x.get('href') for x in soup.select('div.whitecon > ul > li')[0].select(\"a\") if \"politics\" in x.get('href') ]\n",
    "#     href = [loc.select_one(\"a\")[\"href\"] for loc in resp.select_one(\"div.whitecon\").select(\"li\")]\n",
    "    urls.extend(a)\n",
    "    \n",
    "urls\n",
    "    \n",
    "                  \n"
   ]
  },
  {
   "cell_type": "code",
   "execution_count": 124,
   "metadata": {},
   "outputs": [
    {
     "data": {
      "text/plain": [
       "'記者陳鈺馥／特稿內政部、黨產會、婦聯會三方協商瀕臨破局，談判四個月來各方立場不一，婦聯會面對轉型正義的態度更與官方背道而馳，坐擁三百八十一億元資產的婦聯會，成立六十八年來黨國利益結構盤根錯節，政府要與虎謀皮談何容易。內政部在七月廿四日誓言三個月內讓婦聯會走入歷史，當初是以撤換負責人為手段將婦聯會架上談判桌，婦聯會不願任人宰割，開出政府不得追查勞軍捐，董事會政府代表須為文官、社會公正人士由婦聯會提名等條件，避免官夫人俱樂部成員被洗盤。據了解，對於是否要與婦聯會談判，最早黨產會內部意見也不同，主戰派委員認為不應與之協商，應依黨產條例依法處理，最後前黨產會主委顧立雄釋出善意，選擇走入協商大門。但誇張的是，對婦聯會所開出不合理條件，黨產會在三方談判之初，竟完全被蒙在鼓裡，內部不滿未被告知，現在談到最後更發覺，要讓婦聯會民主轉型並不容易，保守抵抗程度超乎想像。在婦聯會方面，面對黨產會祭出隱匿資產懲罰負責人條款，辜嚴倬雲及底下成員強烈不滿，認為黨產會加入究責條款是對婦聯會的不信任，內部鷹派、鴿派也鬧內訌，鷹派主張打官司捍衛婦聯會，鴿派還願意與內政部談，不讓協商破局。知情人士指出，婦聯會鷹派常委拒絕接受協商內容，認為辜嚴倬雲若同意，就是把婦聯會賣掉，辜嚴倬雲則顧忌懲罰條款，擔心自己被底下隱匿資產的人賣掉；鴿派則以拖待變，希望藉此逼官方讓步。據了解，因黨產會與婦聯會在談判過程中吵架撕破臉，近日三方協商已不再開，僅剩內政部與婦聯會電話保持溝通。內政部私下抱怨，黨產會針對辜嚴倬雲祭出懲罰條款，讓早可簽約的協商簽不了，更犯下談判大忌。但黨產會不這麼認為，主張婦聯會案須符合社會期待及對等，內政部太早攤牌，反而會被婦聯會吃定。一場協商三方立場大不同，婦聯會處心積慮防止政府介入董事會，更擔心黨產會繼續追查名下資產；內政部騎虎難下，盼能續協商處理；黨產會早與婦聯會撕破臉，調查婦聯會名下資產工作從未間斷，而婦聯會也透過眼線得知，三方之間互信基礎薄弱，三方協商會卡關也不意外。'"
      ]
     },
     "execution_count": 124,
     "metadata": {},
     "output_type": "execute_result"
    }
   ],
   "source": [
    "url = \"http://news.ltn.com.tw/news/politics/paper/1154817\"\n",
    "headers = {\"User-Agent\":\"Mozilla/5.0 (Windows NT 10.0; Win64; x64) AppleWebKit/537.36 (KHTML, like Gecko) Chrome/62.0.3202.94 Safari/537.36\"}\n",
    "\n",
    "\n",
    "\n",
    "resp = requests.get(url)\n",
    "soup = BeautifulSoup(resp.text, 'html5lib')\n",
    "# desc = soup.find(\"div\",itemprop=\"articleBody\").select(\"p\")\n",
    "desc = soup.select(\"div.text > p\")\n",
    "b = \"\".join([p.text for p in desc])\n",
    "b\n"
   ]
  },
  {
   "cell_type": "code",
   "execution_count": 127,
   "metadata": {
    "collapsed": true
   },
   "outputs": [],
   "source": [
    "if __name__ == \"__main__\":\n",
    "    data = list_crawler(\"20171110\")\n",
    "    with open(\"LTN.csv\", 'w',encoding=\"utf-8\") as f:\n",
    "        f.write(json.dumps(data, ensure_ascii=False))"
   ]
  },
  {
   "cell_type": "code",
   "execution_count": null,
   "metadata": {
    "collapsed": true
   },
   "outputs": [],
   "source": []
  },
  {
   "cell_type": "code",
   "execution_count": null,
   "metadata": {
    "collapsed": true
   },
   "outputs": [],
   "source": []
  }
 ],
 "metadata": {
  "kernelspec": {
   "display_name": "Python 3",
   "language": "python",
   "name": "python3"
  },
  "language_info": {
   "codemirror_mode": {
    "name": "ipython",
    "version": 3
   },
   "file_extension": ".py",
   "mimetype": "text/x-python",
   "name": "python",
   "nbconvert_exporter": "python",
   "pygments_lexer": "ipython3",
   "version": "3.6.1"
  }
 },
 "nbformat": 4,
 "nbformat_minor": 2
}
